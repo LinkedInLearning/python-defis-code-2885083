{
  "nbformat": 4,
  "nbformat_minor": 0,
  "metadata": {
    "colab": {
      "name": "Défis de code Python.ipynb",
      "provenance": [],
      "collapsed_sections": [
        "-Vatf6FjoOI1",
        "M-dCDr0twu_p",
        "XWzopJmxKbu0",
        "J1DBepVJvbzQ",
        "MLND-5kFqqjI"
      ]
    },
    "kernelspec": {
      "display_name": "Python 3",
      "name": "python3"
    }
  },
  "cells": [
    {
      "cell_type": "markdown",
      "metadata": {
        "id": "MbZyA61s9QD4"
      },
      "source": [
        "# Réfléchir et résoudre : \"Growth and Learning\""
      ]
    },
    {
      "cell_type": "markdown",
      "metadata": {
        "id": "ZO0ACtV76HK1"
      },
      "source": [
        "## 1) Partir en croisade"
      ]
    },
    {
      "cell_type": "markdown",
      "metadata": {
        "id": "oiOZvSkkthe3"
      },
      "source": [
        "### Défi"
      ]
    },
    {
      "cell_type": "code",
      "metadata": {
        "colab": {
          "base_uri": "https://localhost:8080/"
        },
        "id": "wKH2Dmua9Jfj",
        "outputId": "13aec38d-29ba-43ba-eb57-2a0b3d74dc50"
      },
      "source": [
        "message = \"PGMQBZWBZKKOJWPMMGBXWGGDBANXSJMXKZLJEPGKCHOAQOGOZJQVZMTOJWJVGVBXVEWOQBWVPJKVGZMQXAUKWDZZKESXPQBQPPPXFOMRAVMQNCAIBSXOJVKW\"\r\n",
        "\r\n",
        "def lapin_de_troie(msg):\r\n",
        "  return \"???\"\r\n",
        "\r\n",
        "def envoyer_le_lapin(lapin, msg):\r\n",
        "  while len(msg) > 24:\r\n",
        "    msg = lapin( msg )\r\n",
        "  return msg\r\n",
        "\r\n",
        "print(envoyer_le_lapin(lapin_de_troie, message))"
      ],
      "execution_count": null,
      "outputs": [
        {
          "output_type": "stream",
          "text": [
            "???\n"
          ],
          "name": "stdout"
        }
      ]
    },
    {
      "cell_type": "markdown",
      "metadata": {
        "id": "kDdGsOILO8Ah"
      },
      "source": [
        "### Solution"
      ]
    },
    {
      "cell_type": "code",
      "metadata": {
        "colab": {
          "base_uri": "https://localhost:8080/"
        },
        "id": "b0S27PPY3DgZ",
        "outputId": "31163d9a-3e57-4e52-f338-b58d163277ee"
      },
      "source": [
        "def suppr(message, indice):\r\n",
        "  return message.replace(message[indice], '')\r\n",
        "\r\n",
        "def lapin_tueur(message):\r\n",
        "  return suppr(suppr(message, 0), -1)\r\n",
        "\r\n",
        "print(envoyer_le_lapin(lapin_tueur, message))"
      ],
      "execution_count": null,
      "outputs": [
        {
          "output_type": "stream",
          "text": [
            "DANSLECHATEAUDESFRANCAIS\n"
          ],
          "name": "stdout"
        }
      ]
    },
    {
      "cell_type": "markdown",
      "metadata": {
        "id": "Jm9lOLE1_-jw"
      },
      "source": [
        "## 2) Se dissiper avec le brouillard anglais"
      ]
    },
    {
      "cell_type": "markdown",
      "metadata": {
        "id": "EB2Vpdz-mLUo"
      },
      "source": [
        "### Défi"
      ]
    },
    {
      "cell_type": "code",
      "metadata": {
        "id": "yvoO6Wxrc9NT"
      },
      "source": [
        "enigme = (\r\n",
        "  \"HSMKEWNPRHNPJNBKQTKUQCEWKDIQPTKQJJDMQXKDSLMQCSEWKTEWNPRHFLHEMQXKDSLHZKQTQPCI\"\r\n",
        "  \"LTHKZWKPDSLTKIWKZNPRSPJNBKHRTNHEJKCSPERTLMUJKRNAKQZWNHEJKQPCEWNHJJWKJOEWNPRH\"\r\n",
        "  \"ELTPSLEBSTEWKUKHEQPCQJZQDHJSSXSPEWKUTNRWEHNCKSBJNBKQJZQDHJSSXSPEWKJNRWEHNCKS\"\r\n",
        "  \"BJNBKNBJNBKHKKMHFSJJDTSEEKPEWKTKHHSMKEWNPRDSLAKBSTRSEEKPQPCEWQEHESJQLRWQPCHM\"\r\n",
        "  \"NJKQPCCQPIKQPCHNPRZWKPDSLTKBKKJNPRNPEWKCLMOHCSPEUKHNJJDIWLMOHFLHEOLTHKDSLTJN\"\r\n",
        "  \"OHQPCZWNHEJKEWQEHEWKEWNPRQPCQJZQDHJSSXSPEWKUTNRWEHNCKSBJNBKISMKSPQJZQDHJSSXS\"\r\n",
        "  \"PEWKTNRWEHNCKSBJNBKBSTJNBKNHVLNEKQUHLTCQPCCKQEWHEWKBNPQJZSTCDSLMLHEQJZQDHBQI\"\r\n",
        "  \"KEWKILTEQNPZNEWQUSZBSTRKEQUSLEDSLTHNPRNAKEWKQLCNKPIKQRTNPKPFSDNENEHDSLTJQHEI\"\r\n",
        "  \"WQPIKQPDWSZHSQJZQDHJSSXSPEWKUTNRWEHNCKSBCKQEWQFLHEUKBSTKDSLCTQZDSLTEKTMNPQJU\"\r\n",
        "  \"TKQEWJNBKHQONKIKSBHWNEZWKPDSLJSSXQENEJNBKHQJQLRWQPCCKQEWHQFSXKNEHETLKDSLJJHK\"\r\n",
        "  \"KNEHQJJQHWSZXKKOKMJQLRWNPQHDSLRSFLHETKMKMUKTEWQEEWKJQHEJQLRWNHSPDSLQPCQJZQDH\"\r\n",
        "  \"JSSXSPEWKUTNRWEHNCKSBJNBKQJZQDHJSSXSPEWKTNRWEHNCKSBJNBKIMSPUTNQPIWKKTLOQJZQD\"\r\n",
        "  \"HJSSXSPEWKUTNRWEHNCKSBJNBKQJZQDHJSSXSPEWKUTNRWEHNCKSBJNBKQJZQDHJSSXSPEWKUTNR\"\r\n",
        "  \"WEHNCKSBJNBKNMKQPZWQEWQAKDSLRSEESJSHKDSLXPSZDSLISMKBTSMPSEWNPRDSLTKRSNPRUQIX\"\r\n",
        "  \"ESPSEWNPRZWQEWQAKDSLJSHEPSEWNPRQJZQDHJSSXSPEWKTNRWEHNCKSBJNBKPSEWNPRZNJJISMK\"\r\n",
        "  \"BTSMPSEWNPRDQXPSZZWQEEWKDHQDIWKKTLODQSJCULRRQIMSPRNAKLHQRTNPQJZQDHJSSXSPEWKT\"\r\n",
        "  \"NRWEHNCKSBJNBKEWKTKDQQTKHKKNEHEWKKPCSBEWKBNJMNPINCKPEQJJDEWNHTKISTCHQAQNJQUJ\"\r\n",
        "  \"KNPEWKBSDKTQJZQDHJSSXSPEWKTNRWEHNCKSBJNBKHSMKSBLHRSEESJNAKQHZKJJDSLXPSZQJZQD\"\r\n",
        "  \"HJSSXSPEWKTNRWEHNCKSBJNBKZWSCSDSLEWNPXOQDHBSTQJJEWNHTLUUNHWQJZQDHJSSXSPEWKTN\"\r\n",
        "  \"RWEHNCKSBJNBKEWKDTKPSERSPPQMQXKEWKNTMSPKDUQIXDSLXPSZNESJCEWKMNHQNCESWNMUKTPN\"\r\n",
        "  \"KNHQNCEWKDJJPKAKTMQXKEWKNTMSPKDUQIX\"\r\n",
        ")\r\n",
        "frequence = \"EOTIALHSNRYFUGDWMKBCPVJQXZ\""
      ],
      "execution_count": null,
      "outputs": []
    },
    {
      "cell_type": "markdown",
      "metadata": {
        "id": "JyJsgEEvmO44"
      },
      "source": [
        "### Solution"
      ]
    },
    {
      "cell_type": "markdown",
      "metadata": {
        "id": "wDWuxTjiEJKu"
      },
      "source": [
        "#### Comptage des occurrences"
      ]
    },
    {
      "cell_type": "code",
      "metadata": {
        "id": "ffxvp7gwd8JG"
      },
      "source": [
        "occurrences = [[lettre, 0] for lettre in \"ABCDEFGHIJKLMNOPQRSTUVWXYZ\"]\r\n",
        "for c in enigme:\r\n",
        "  occurrences[ord(c)-ord('A')][1] += 1\r\n",
        "occurrences"
      ],
      "execution_count": null,
      "outputs": []
    },
    {
      "cell_type": "markdown",
      "metadata": {
        "id": "JA6OhlooEQsy"
      },
      "source": [
        "#### Tri"
      ]
    },
    {
      "cell_type": "code",
      "metadata": {
        "id": "oYL6kX0PeKBN"
      },
      "source": [
        "classement = sorted(occurrences, key=lambda duo: duo[1], reverse=True)\r\n",
        "frequence_enigme = ''.join([duo[0] for duo in classement])\r\n",
        "print(frequence)\r\n",
        "print(frequence_enigme)"
      ],
      "execution_count": null,
      "outputs": []
    },
    {
      "cell_type": "markdown",
      "metadata": {
        "id": "szM7IcJKEWLk"
      },
      "source": [
        "#### Déchiffrement"
      ]
    },
    {
      "cell_type": "code",
      "metadata": {
        "id": "8gNQWHJ-HS4r"
      },
      "source": [
        "correspondance = dict(zip(frequence_enigme, frequence))\r\n",
        "correspondance"
      ],
      "execution_count": null,
      "outputs": []
    },
    {
      "cell_type": "code",
      "metadata": {
        "id": "kaz2sP7Vi4vF"
      },
      "source": [
        "''.join([correspondance[lettre] for lettre in enigme])"
      ],
      "execution_count": null,
      "outputs": []
    },
    {
      "cell_type": "markdown",
      "metadata": {
        "id": "22q1RQeJAAP4"
      },
      "source": [
        "## 3) Affiner sa recherche et son fromage"
      ]
    },
    {
      "cell_type": "markdown",
      "metadata": {
        "id": "-Vatf6FjoOI1"
      },
      "source": [
        "### Défi"
      ]
    },
    {
      "cell_type": "code",
      "metadata": {
        "id": "_T5Y5rI-AFJn"
      },
      "source": [
        "fromages = {\r\n",
        "  \"France\": {\r\n",
        "    \"Brebis\": {\r\n",
        "      \"Fromage frais\": {\r\n",
        "        \"Brocciu\": 0\r\n",
        "      },\r\n",
        "      \"Pâte persillée\": { \r\n",
        "        \"Roquefort\": 0\r\n",
        "      },\r\n",
        "      \"Pâte pressée\": {\r\n",
        "        \"Non cuite\": { \r\n",
        "          \"Ossau-iraty\": 0\r\n",
        "        }\r\n",
        "      }\r\n",
        "    },\r\n",
        "  \t\"Chèvre\": {\r\n",
        "      \"Fromage frais\": {\r\n",
        "        \"Brocciu\": 0,\r\n",
        "        \"Brousse du Rove\": 0\r\n",
        "      },\r\n",
        "      \"Pâte molle\": {\r\n",
        "        \"Croûte fleurie\": {\r\n",
        "          \"Banon\": 0, \r\n",
        "          \"Rigotte de Condrieu\": 0\r\n",
        "        },\r\n",
        "        \"Croûte naturelle\": {\r\n",
        "          \"Chabichou du Poitou\": 0,\r\n",
        "          \"Charolais\": 0,\r\n",
        "          \"Crottin de Chavignol\": 0,\r\n",
        "          \"Mâconnais\": 0,\r\n",
        "          \"Pélardon\": 0,\r\n",
        "          \"Picodon\": 0,\r\n",
        "          \"Pouligny-saint-pierre\": 0,\r\n",
        "          \"Rocamadour\": 0,\r\n",
        "          \"Sainte-maure-de-touraine\": 0,\r\n",
        "          \"Selles-sur-cher\": 0,\r\n",
        "          \"Valençay\": 0\r\n",
        "        }\r\n",
        "      },\r\n",
        "      \"Pâte pressée\": {\r\n",
        "        \"Non cuite\": { \r\n",
        "          \"Chevrotin\": 0 \r\n",
        "        }\r\n",
        "      }\r\n",
        "    },\r\n",
        "    \"Vache\": {\r\n",
        "      \"Pâte molle\": { \r\n",
        "        \"Croûte fleurie\": {\t\r\n",
        "          \"Brie de Meaux\": 0,\r\n",
        "          \"Brie de Melun\": 0,\r\n",
        "          \"Camembert de Normandie\": 0,\r\n",
        "          \"Chaource\": 0,\r\n",
        "          \"Neufchâtel\": 0\r\n",
        "        },\r\n",
        "        \"Croûte lavée\": {\r\n",
        "          \"Époisses\": 0,\r\n",
        "          \"Langres\": 0,\r\n",
        "          \"Livarot\": 0,\r\n",
        "          \"Maroilles ou marolles\": 0,\r\n",
        "          \"Mont d'Or\": 0,\r\n",
        "          \"Munster\": 0,\r\n",
        "          \"Pont-l'évêque\": 0\r\n",
        "        }\r\n",
        "      },\r\n",
        "      \"Pâte persillée\": {\r\n",
        "        \"Bleu d'Auvergne\": 0,\r\n",
        "        \"Bleu de Gex\": 0,\r\n",
        "        \"Bleu des Causses\": 0,\r\n",
        "        \"Bleu du Vercors-Sassenage\": 0,\r\n",
        "        \"Fourme d'Ambert\": 0,\r\n",
        "        \"Fourme de Montbrison\": 0\r\n",
        "      },\r\n",
        "      \"Pâte pressée\": {\r\n",
        "        \"Cuite\": {\r\n",
        "          \"Abondance\": 0,\r\n",
        "          \"Beaufort\": 0,\r\n",
        "          \"Comté\": 0,\r\n",
        "        },\r\n",
        "        \"Non cuite\": {\t\r\n",
        "          \"Cantal\": 0,\r\n",
        "          \"Laguiole\": 0,\r\n",
        "          \"Morbier\": 0,\r\n",
        "          \"Reblochon\": 0,\r\n",
        "          \"Saint-nectaire\": 0,\r\n",
        "          \"Salers\": 0,\r\n",
        "          \"Tome des Bauges\": 0,\r\n",
        "        }\r\n",
        "      }\r\n",
        "    }\r\n",
        "  }\r\n",
        "}"
      ],
      "execution_count": null,
      "outputs": []
    },
    {
      "cell_type": "code",
      "metadata": {
        "id": "Q6et4rnboy2h"
      },
      "source": [
        "def trouver(criteres):\r\n",
        "  '''\r\n",
        "  >>> trouver('')\r\n",
        "  47\r\n",
        "  >>> trouver('spam')\r\n",
        "  0\r\n",
        "  >>> trouver('Cantal')\r\n",
        "  1\r\n",
        "  >>> trouver('Pâte pressée')\r\n",
        "  12\r\n",
        "  >>> trouver('Pâte pressée, Spam')\r\n",
        "  0\r\n",
        "  >>> trouver('Non cuite, Vache')\r\n",
        "  7\r\n",
        "  >>> trouver('Vache, Non cuite')\r\n",
        "  7\r\n",
        "  '''\r\n",
        "  return -1\r\n",
        "\r\n",
        "import doctest\r\n",
        "doctest.run_docstring_examples(trouver, globals())"
      ],
      "execution_count": null,
      "outputs": []
    },
    {
      "cell_type": "markdown",
      "metadata": {
        "id": "-YJZIrbRoLdO"
      },
      "source": [
        "### Solution"
      ]
    },
    {
      "cell_type": "code",
      "metadata": {
        "id": "VPh8DzkuoLAW"
      },
      "source": [
        "def trouver(criteres):\r\n",
        "  '''\r\n",
        "  >>> trouver('')\r\n",
        "  47\r\n",
        "  >>> trouver('spam')\r\n",
        "  0\r\n",
        "  >>> trouver('Cantal')\r\n",
        "  1\r\n",
        "  >>> trouver('Pâte pressée')\r\n",
        "  12\r\n",
        "  >>> trouver('Pâte pressée, Spam')\r\n",
        "  0\r\n",
        "  >>> trouver('Non cuite, Vache')\r\n",
        "  7\r\n",
        "  >>> trouver('Vache, Non cuite')\r\n",
        "  7\r\n",
        "  '''\r\n",
        "  return trouver_rec(fromages, [] if not criteres else criteres.split(', '))\r\n",
        "\r\n",
        "def trouver_rec(noeud, criteres):\r\n",
        "  if isinstance(noeud, int):\r\n",
        "    return 0 if criteres else 1    \r\n",
        "  sous_criteres = []\r\n",
        "  enfants = []\r\n",
        "  for c in criteres:\r\n",
        "    if c in noeud:\r\n",
        "      enfants.append(noeud[c])\r\n",
        "    else:\r\n",
        "      sous_criteres.append(c)      \r\n",
        "  total = 0\r\n",
        "  for e in noeud.values() if not enfants else enfants:\r\n",
        "    total += trouver_rec(e, sous_criteres)      \r\n",
        "  return total\r\n",
        "\r\n",
        "import doctest\r\n",
        "doctest.run_docstring_examples(trouver, globals())"
      ],
      "execution_count": null,
      "outputs": []
    },
    {
      "cell_type": "markdown",
      "metadata": {
        "id": "01B_HwaAACiA"
      },
      "source": [
        "## 4) Imiter le perroquet"
      ]
    },
    {
      "cell_type": "markdown",
      "metadata": {
        "id": "M-dCDr0twu_p"
      },
      "source": [
        "### Défi"
      ]
    },
    {
      "cell_type": "code",
      "metadata": {
        "id": "AGwUpLuwAENX"
      },
      "source": [
        "def perroquet(phrase, max_syllabes):\r\n",
        "  '''\r\n",
        "  >>> perroquet(\"Et maintenant quelque chose de complètement différent\", 4)\r\n",
        "  différent\r\n",
        "  >>> perroquet(\"Snap snap, grin grin, wink wink, nudge nudge\", 4)\r\n",
        "  wink wink, nudge nudge\r\n",
        "  >>> perroquet(\"Se défendre en cas d'attaque avec des fruits frais\", 4)\r\n",
        "  des fruits frais\r\n",
        "  >>> perroquet(\"Que font-ils dans mon estomac ? Aucune idée, ils paient un loyer ?\", 4)\r\n",
        "  paient un loyer\r\n",
        "  >>> perroquet(\"Python\", 4)\r\n",
        "  Python\r\n",
        "  >>> perroquet(\"Python\", 1)\r\n",
        "  \"\"\r\n",
        "  '''\r\n",
        "  return 'argh'"
      ],
      "execution_count": null,
      "outputs": []
    },
    {
      "cell_type": "code",
      "metadata": {
        "colab": {
          "base_uri": "https://localhost:8080/"
        },
        "id": "6FtgAfaLyGKs",
        "outputId": "9a2b7778-2821-47d3-96ae-286397070ef2"
      },
      "source": [
        "import doctest\r\n",
        "doctest.run_docstring_examples(perroquet, globals())"
      ],
      "execution_count": null,
      "outputs": [
        {
          "output_type": "stream",
          "text": [
            "**********************************************************************\n",
            "File \"__main__\", line 3, in NoName\n",
            "Failed example:\n",
            "    perroquet(\"Et maintenant quelque chose de complètement différent\", 4)\n",
            "Expected:\n",
            "    différent\n",
            "Got:\n",
            "    'argh'\n",
            "**********************************************************************\n",
            "File \"__main__\", line 5, in NoName\n",
            "Failed example:\n",
            "    perroquet(\"Snap snap, grin grin, wink wink, nudge nudge\", 4)\n",
            "Expected:\n",
            "    wink wink, nudge nudge\n",
            "Got:\n",
            "    'argh'\n",
            "**********************************************************************\n",
            "File \"__main__\", line 7, in NoName\n",
            "Failed example:\n",
            "    perroquet(\"Se défendre en cas d'attaque avec des fruits frais\", 4)\n",
            "Expected:\n",
            "    des fruits frais\n",
            "Got:\n",
            "    'argh'\n",
            "**********************************************************************\n",
            "File \"__main__\", line 9, in NoName\n",
            "Failed example:\n",
            "    perroquet(\"Que font-ils dans mon estomac ? Aucune idée, ils paient un loyer ?\", 4)\n",
            "Expected:\n",
            "    paient un loyer\n",
            "Got:\n",
            "    'argh'\n",
            "**********************************************************************\n",
            "File \"__main__\", line 11, in NoName\n",
            "Failed example:\n",
            "    perroquet(\"Python\", 4)\n",
            "Expected:\n",
            "    Python\n",
            "Got:\n",
            "    'argh'\n",
            "**********************************************************************\n",
            "File \"__main__\", line 13, in NoName\n",
            "Failed example:\n",
            "    perroquet(\"Python\", 1)\n",
            "Expected:\n",
            "    \"\"\n",
            "Got:\n",
            "    'argh'\n"
          ],
          "name": "stdout"
        }
      ]
    },
    {
      "cell_type": "markdown",
      "metadata": {
        "id": "8AzdnY9j1Bbj"
      },
      "source": [
        "### Solution"
      ]
    },
    {
      "cell_type": "code",
      "metadata": {
        "id": "4tMhKKjO1EZi"
      },
      "source": [
        "from enum import Enum\r\n",
        "\r\n",
        "voyelles = \"aâeéêèioôu\"\r\n",
        "espaces = \" \\t\\n\\r?!,.:;^\"\r\n",
        "\r\n",
        "def perroquet(phrase_init, max_syllabes):\r\n",
        "  '''\r\n",
        "  >>> perroquet(\"Et maintenant quelque chose de complètement différent\", 4)\r\n",
        "  'différent'\r\n",
        "  >>> perroquet(\"Snap snap, grin grin, wink wink, nudge nudge\", 4)\r\n",
        "  'wink wink, nudge nudge'\r\n",
        "  >>> perroquet(\"Se défendre en cas d'attaque avec des fruits frais\", 4)\r\n",
        "  'des fruits frais'\r\n",
        "  >>> perroquet(\"Que font-ils dans mon estomac ? Aucune idée, au moins, ils paient un loyer ?\", 4)\r\n",
        "  'paient un loyer ?'\r\n",
        "  >>> perroquet(\"Grenouilles croquantes glacées au glucose\", 7)\r\n",
        "  'croquantes glacées au glucose'\r\n",
        "  >>> perroquet(\"Python\", 4)\r\n",
        "  'Python'\r\n",
        "  >>> perroquet(\"Python\", 1)\r\n",
        "  ''\r\n",
        "  '''\r\n",
        "  phrase = '^'+phrase_init.lower()\r\n",
        "  etat = etat_intervalle\r\n",
        "  debut = len(phrase)\r\n",
        "  syllabes = 0\r\n",
        "  for indice in reversed(range(len(phrase))):\r\n",
        "    etat, inc, debut_mot = etat(phrase[indice])\r\n",
        "    syllabes += inc\r\n",
        "    if syllabes > max_syllabes:\r\n",
        "      break\r\n",
        "    if debut_mot:\r\n",
        "      debut = indice + 1\r\n",
        "\r\n",
        "  return phrase_init[debut-1:]\r\n",
        "\r\n",
        "def etat_intervalle(lettre):\r\n",
        "  return (etat_pluriel_emuet, 0, False) if lettre=='s' \\\r\n",
        "    else traiter_mot(lettre, False)\r\n",
        "  \r\n",
        "def etat_voyelles(lettre):\r\n",
        "  return traiter_lettre(lettre, 0, True)\r\n",
        "\r\n",
        "def etat_consonnes(lettre):\r\n",
        "  return traiter_lettre_consonne(lettre, True)\r\n",
        "\r\n",
        "def etat_pluriel_emuet(lettre):\r\n",
        "  return traiter_mot(lettre, False)\r\n",
        "\r\n",
        "def etat_emuet(lettre):\r\n",
        "  return (etat_voyelles  , 1, False) if lettre in voyelles \\\r\n",
        "    else (etat_intervalle, 1, True ) if lettre in espaces \\\r\n",
        "    else (etat_emuet     , 0, False)\r\n",
        "\r\n",
        "def traiter_lettre(lettre, inc_voyelle, mot):\r\n",
        "  return (etat_voyelles  , inc_voyelle, False) if lettre in voyelles \\\r\n",
        "    else (etat_intervalle,           0, mot  ) if lettre in espaces \\\r\n",
        "    else (etat_consonnes ,           0, False)\r\n",
        "\r\n",
        "def traiter_lettre_consonne(lettre, mot):\r\n",
        "  return (etat_voyelles, 1, False) if lettre=='y' \\\r\n",
        "    else traiter_lettre(lettre, 1, mot)\r\n",
        "\r\n",
        "def traiter_mot(lettre, mot):\r\n",
        "  return (etat_emuet, 0, False) if lettre == 'e' \\\r\n",
        "    else traiter_lettre_consonne(lettre, mot)\r\n",
        "\r\n",
        "import doctest\r\n",
        "doctest.run_docstring_examples(perroquet, globals())"
      ],
      "execution_count": null,
      "outputs": []
    },
    {
      "cell_type": "markdown",
      "metadata": {
        "id": "U1wq0qXQ6LLj"
      },
      "source": [
        "# Combattre la routine : \"Fighting Each Other\""
      ]
    },
    {
      "cell_type": "markdown",
      "metadata": {
        "id": "EYHOS1yv6eyT"
      },
      "source": [
        "## 1) Nettoyer le \"for k\""
      ]
    },
    {
      "cell_type": "markdown",
      "metadata": {
        "id": "lUmQ093EwzoB"
      },
      "source": [
        "### Défi"
      ]
    },
    {
      "cell_type": "code",
      "metadata": {
        "id": "G5zwdMJDnSLD"
      },
      "source": [
        "personnages = [\r\n",
        "  \"Client-e\", \r\n",
        "  \"Maître-sse d'hôtel\", \r\n",
        "  \"Chef-fe\",\r\n",
        "  \"Serveuse/serveur\", \r\n",
        "]\r\n",
        "etapes = [\r\n",
        "  [ [  0, \"Se présenter\" ],\r\n",
        "    [  3, \"Choisir\" ],\r\n",
        "    [  5, \"Signaler une fourchette sale\" ],\r\n",
        "    [  9, \"Donner son choix\" ],\r\n",
        "    [ 14, \"Manger\" ],\r\n",
        "    [ 16, \"Demander l'addition\" ],\r\n",
        "    [ 18, \"Payer\" ],\r\n",
        "    [ 19, \"Partir\" ]\r\n",
        "  ],\r\n",
        "  [ [  1, \"Conduire à la table\" ],\r\n",
        "    [  2, \"Donner une carte\" ],\r\n",
        "    [  4, \"Renseigner le client\" ],\r\n",
        "    [  6, \"S'excuser \" ],\r\n",
        "    [  7, \"Remplacer par une fourchette propre\" ],\r\n",
        "    [  8, \"Commencer la prise de commande\" ],\r\n",
        "    [ 10, \"Transmettre en cuisine\" ],\r\n",
        "    [ 17, \"Amener l'addition\" ]\r\n",
        "  ],\r\n",
        "  [ [ 11, \"Préparer les plats\" ],\r\n",
        "    [ 12, \"Indiquer la disponibilité\" ]\r\n",
        "  ],\r\n",
        "  [ [ 13, \"Servir le plat\" ],\r\n",
        "    [ 15, \"Débarrasser\" ]\r\n",
        "  ],\r\n",
        "]"
      ],
      "execution_count": null,
      "outputs": []
    },
    {
      "cell_type": "code",
      "metadata": {
        "colab": {
          "base_uri": "https://localhost:8080/"
        },
        "id": "RkxMhOgZrNSj",
        "outputId": "c341dbef-74dc-4fb5-b4e3-0249532632db"
      },
      "source": [
        "iterations = 0\r\n",
        "i = 0\r\n",
        "j = 0\r\n",
        "while i < 20:\r\n",
        "  for k in range(len(etapes[j])):\r\n",
        "    iterations += 1\r\n",
        "    etape, action = etapes[j][k]\r\n",
        "    if etape < i:\r\n",
        "      continue\r\n",
        "    if etape > i:\r\n",
        "      break\r\n",
        "    print(i+1, personnages[j], ':', action)\r\n",
        "    i += 1\r\n",
        "  j = (j + 1) % len(personnages)\r\n",
        "\r\n",
        "print()\r\n",
        "print(iterations, \"itérations\")"
      ],
      "execution_count": null,
      "outputs": [
        {
          "output_type": "stream",
          "text": [
            "1 Client-e : Se présenter\n",
            "2 Maître-sse d'hôtel : Conduire à la table\n",
            "3 Maître-sse d'hôtel : Donner une carte\n",
            "4 Client-e : Choisir\n",
            "5 Maître-sse d'hôtel : Renseigner le client\n",
            "6 Client-e : Signaler une fourchette sale\n",
            "7 Maître-sse d'hôtel : S'excuser \n",
            "8 Maître-sse d'hôtel : Remplacer par une fourchette propre\n",
            "9 Maître-sse d'hôtel : Commencer la prise de commande\n",
            "10 Client-e : Donner son choix\n",
            "11 Maître-sse d'hôtel : Transmettre en cuisine\n",
            "12 Chef-fe : Préparer les plats\n",
            "13 Chef-fe : Indiquer la disponibilité\n",
            "14 Serveuse/serveur : Servir le plat\n",
            "15 Client-e : Manger\n",
            "16 Serveuse/serveur : Débarrasser\n",
            "17 Client-e : Demander l'addition\n",
            "18 Maître-sse d'hôtel : Amener l'addition\n",
            "19 Client-e : Payer\n",
            "20 Client-e : Partir\n",
            "\n",
            "91 itérations\n"
          ],
          "name": "stdout"
        }
      ]
    },
    {
      "cell_type": "markdown",
      "metadata": {
        "id": "L9X0OmX-P0yx"
      },
      "source": [
        "### Solution"
      ]
    },
    {
      "cell_type": "code",
      "metadata": {
        "colab": {
          "base_uri": "https://localhost:8080/"
        },
        "id": "5zum1xOhP2Ow",
        "outputId": "1399d787-fcfc-4171-991f-2cd28390b1a6"
      },
      "source": [
        "iterations = 0\r\n",
        "for i in range(0, 20):\r\n",
        "  for j in range(len(personnages)):\r\n",
        "    iterations += 1\r\n",
        "    if etapes[j] and etapes[j][0][0] == i:\r\n",
        "      etape, action = etapes[j].pop(0)\r\n",
        "      print(i+1, personnages[j], ':', action)\r\n",
        "      break\r\n",
        "\r\n",
        "print()\r\n",
        "print(iterations, 'itérations')"
      ],
      "execution_count": null,
      "outputs": [
        {
          "output_type": "stream",
          "text": [
            "1 Client-e : Se présenter\n",
            "2 Maître-sse d'hôtel : Conduire à la table\n",
            "3 Maître-sse d'hôtel : Donner une carte\n",
            "4 Client-e : Choisir\n",
            "5 Maître-sse d'hôtel : Renseigner le client\n",
            "6 Client-e : Signaler une fourchette sale\n",
            "7 Maître-sse d'hôtel : S'excuser \n",
            "8 Maître-sse d'hôtel : Remplacer par une fourchette propre\n",
            "9 Maître-sse d'hôtel : Commencer la prise de commande\n",
            "10 Client-e : Donner son choix\n",
            "11 Maître-sse d'hôtel : Transmettre en cuisine\n",
            "12 Chef-fe : Préparer les plats\n",
            "13 Chef-fe : Indiquer la disponibilité\n",
            "14 Serveuse/serveur : Servir le plat\n",
            "15 Client-e : Manger\n",
            "16 Serveuse/serveur : Débarrasser\n",
            "17 Client-e : Demander l'addition\n",
            "18 Maître-sse d'hôtel : Amener l'addition\n",
            "19 Client-e : Payer\n",
            "20 Client-e : Partir\n",
            "\n",
            "38 itérations\n"
          ],
          "name": "stdout"
        }
      ]
    },
    {
      "cell_type": "markdown",
      "metadata": {
        "id": "_FwKM6Df6hPy"
      },
      "source": [
        "## 2) Varier ses variables"
      ]
    },
    {
      "cell_type": "markdown",
      "metadata": {
        "id": "XWzopJmxKbu0"
      },
      "source": [
        "### Défi"
      ]
    },
    {
      "cell_type": "code",
      "metadata": {
        "id": "wAV1s17-KlcG"
      },
      "source": [
        "import random\r\n",
        "\r\n",
        "def spam_co(spam_elpo, r):\r\n",
        "  x0, y0 = spam_elpo\r\n",
        "  for y in range(0, spam_ra['h']):\r\n",
        "    for x in range(0, spam_ra['l']):\r\n",
        "      dx, dy = x - x0, y - y0\r\n",
        "      if dx*dx/4 + dy*dy < r*r:\r\n",
        "        spam_uc[y][x] = spam_re[spam_uc[y][x]]\r\n",
        "\r\n",
        "def spam_op(d):\r\n",
        "  return random.randrange(spam_ra[d])\r\n",
        "\r\n",
        "spam_ton = ' .-=+*#%@@'\r\n",
        "spam_re = { spam_ton[i-1]: spam_ton[i] for i in range(1, len(spam_ton)) }\r\n",
        "spam_ra = { 'l':200, 'h':30, 'R': 11, 'r':2, 'n': 7 }\r\n",
        "spam_le = [ ]\r\n",
        "spam_uc = [ ]\r\n",
        "\r\n",
        "for i in range(spam_ra['h']):\r\n",
        "  spam_uc.append([ ' ' for i in range(spam_ra['l'])])\r\n",
        "\r\n",
        "for i in range(spam_ra['n']):\r\n",
        "  spam_le.append((spam_op('l'), spam_op('h')))\r\n",
        "\r\n",
        "for l in spam_le:\r\n",
        "  for r in range(1, spam_ra['R'], spam_ra['r']):\r\n",
        "    spam_co(l, r)\r\n",
        "\r\n",
        "for l in spam_uc:\r\n",
        "  print(''.join(l))\r\n",
        "  "
      ],
      "execution_count": null,
      "outputs": []
    },
    {
      "cell_type": "markdown",
      "metadata": {
        "id": "J1DBepVJvbzQ"
      },
      "source": [
        "### Solution"
      ]
    },
    {
      "cell_type": "code",
      "metadata": {
        "colab": {
          "base_uri": "https://localhost:8080/"
        },
        "id": "HS-Nqd0p6lDD",
        "outputId": "6434ff54-1cee-4c25-c65e-3a32973f953c"
      },
      "source": [
        "import random\r\n",
        "\r\n",
        "def compas(pos_lampe, r):\r\n",
        "  x0, y0 = pos_lampe\r\n",
        "  for y in range(0, params['h']):\r\n",
        "    for x in range(0, params['l']):\r\n",
        "      dx, dy = x - x0, y - y0\r\n",
        "      if dx*dx/4 + dy*dy < r*r:\r\n",
        "        campus[y][x] = rampes[campus[y][x]]\r\n",
        "\r\n",
        "def map_pos(d):\r\n",
        "  return random.randrange(params[d])\r\n",
        "\r\n",
        "tampons = ' .-=+*#%@@'\r\n",
        "rampes = { tampons[i-1]: tampons[i] for i in range(1, len(tampons)) }\r\n",
        "params = { 'l':200, 'h':30, 'R': 11, 'r':2, 'n': 7 }\r\n",
        "lampes = [ ]\r\n",
        "campus = [ ]\r\n",
        "\r\n",
        "for i in range(params['h']):\r\n",
        "  campus.append([ ' ' for i in range(params['l'])])\r\n",
        "\r\n",
        "for i in range(params['n']):\r\n",
        "  lampes.append((map_pos('l'), map_pos('h')))\r\n",
        "\r\n",
        "for l in lampes:\r\n",
        "  for r in range(1, params['R'], params['r']):\r\n",
        "    compas(l, r)\r\n",
        "\r\n",
        "for l in campus:\r\n",
        "  print(''.join(l))\r\n",
        "  "
      ],
      "execution_count": null,
      "outputs": [
        {
          "output_type": "stream",
          "text": [
            "                                                                                                                             .................          .....-------------------.....                   \n",
            "                                                                                                                          .......................     .....------===========------.....                 \n",
            "                                                                                                                        ......---------------......   ....-----===============-----....                 \n",
            "                                                                                                        ...............--...-------------------..... ....----=====+++++++++=====----....                \n",
            "                                                                                                     ................-----==----===========------....-...----====+++++++++++====----....                \n",
            "                                                                                                   ......------------===-====================-----...-...----====++++***++++====----....                \n",
            "                                                                         .................        .....-------------====++==+++==+++++++++=====----..--..----====+++++++++++====----....                \n",
            "                                                                      .......................   .....------=========++==++++++++*++++++++++====----..--..----=====+++++++++=====----....                \n",
            "                                                                    ......---------------...... ....-----===========++++++++*+++*+++***++++====----...-...=====++++++++++++===-----....                 \n",
            "                                                                   .....-------------------....-...----=====++++++++*+++**++**++**+++++++++====----...-----======+++++++++++==----.....                 \n",
            "                                                                 .....------===========------..---.----====+++++++++**++**++**+++*++++++++=====----..--.---==+++++++++++++======.....                   \n",
            "                                                                 ....-----===============-----.---.----====++++***+++*+++*++++++++===========-----..--...======+++++++++++++==---...                    \n",
            "                                                                ....----=====+++++++++=====------------====++++++++++*++++++++==++=========------.----.----==+++++++++++======----.                     \n",
            "                                                                ....----====+++++++++++====------------=====+++++++++==+**++**++++=======------...--..-----===++++++++++++=====....                     \n",
            "                                                                ....----====++++***++++====----.---.-----============++++++++=+++===========-....--..----=====+++++++++=====----....                    \n",
            "                                                                ....----====+++++++++++====----.---..------========+++===+**+++++=======------.......----====+++++++++++====----....                    \n",
            "                    .................                           ....----=====+++++++++=====----...-....-----------=====+++===++===========----.  ....----====++++***++++====----....                    \n",
            "                 .......................                         ....-----===============-----.... ......-------=====+++===+++========------.........----====+++++++++++====----....                    \n",
            "               ......---------------......                       .....------===========------.....   ...........----=====+++============-----........----=====+++++++++=====----....                    \n",
            "              .....-------------------.....                        .....-------------------.....        .......----====++===+++++++++=====----........-----===============-----....                     \n",
            "            .....------===========------.....                       ......---------------......                ....----====+++++++++++====----.........------===========------.....                     \n",
            "            ....-----===============-----....                         .......................                  ....----====++++***++++====----....  .....-------------------.....                       \n",
            "           ....----=====+++++++++=====----....                           .................                     ....----====+++++++++++====----....   ......---------------......                        \n",
            "           ....----====+++++++++++====----....                                                                 ....----=====+++++++++=====----....     .......................                          \n",
            "           ....----====++++***++++====----....                                                                  ....-----===============-----....         .................                             \n",
            "           ....----====+++++++++++====----....                                                                  .....------===========------.....                                                       \n",
            "           ....----=====+++++++++=====----....                                                                    .....-------------------.....                                                         \n",
            "            ....-----===============-----....                                                                      ......---------------......                                                          \n",
            "            .....------===========------.....                                                                        .......................                                                            \n",
            "              .....-------------------.....                                                                             .................                                                               \n"
          ],
          "name": "stdout"
        }
      ]
    },
    {
      "cell_type": "markdown",
      "metadata": {
        "id": "6xwMHZY-6smL"
      },
      "source": [
        "## 3) Adopter une drôle de démarche"
      ]
    },
    {
      "cell_type": "markdown",
      "metadata": {
        "id": "Pl2ZMdPtw6g9"
      },
      "source": [
        "### Défi"
      ]
    },
    {
      "cell_type": "code",
      "metadata": {
        "id": "DVOcea1WwhY2"
      },
      "source": [
        "TAILLE = 8\r\n",
        "\r\n",
        "def cavalier(trajet):\r\n",
        "  '''\r\n",
        "  >>> cavalier('x4')\r\n",
        "  False\r\n",
        "  >>> cavalier('a9')\r\n",
        "  False\r\n",
        "  >>> cavalier('d4')\r\n",
        "  True\r\n",
        "  >>> cavalier('d4 d5')\r\n",
        "  False\r\n",
        "  >>> cavalier('d4 c6')\r\n",
        "  True\r\n",
        "  >>> cavalier('d4 c6 d4')\r\n",
        "  False\r\n",
        "  >>> cavalier('d4 c6 b4 d3 e5')\r\n",
        "  True\r\n",
        "  '''\r\n",
        "  echec = [([False] * TAILLE).copy() for i in range(TAILLE)]\r\n",
        "  cases = trajet.split(' ')\r\n",
        "  prec = extraire(echec, cases)\r\n",
        "  while prec and cases:\r\n",
        "    prec = extraire(echec, cases, prec)\r\n",
        "  return prec!=()\r\n",
        "\r\n",
        "def position_valide(pos):\r\n",
        "  return 'a' <= pos[0] <= 'h' and '1' <= pos[1] <= '8'\r\n",
        "\r\n",
        "def coordonnees(pos):\r\n",
        "  return (ord(pos[0])-ord('a'), ord(pos[1])-ord('1'))\r\n",
        "\r\n",
        "def extraire(echec, cases, prec=()):\r\n",
        "  case = cases.pop(0)\r\n",
        "  if not position_valide(case):\r\n",
        "    return ()\r\n",
        "  (x, y) = coordonnees(case)\r\n",
        "  if echec[x][y] or prec and abs((prec[0]-x)*(prec[1]-y))!=2:\r\n",
        "    return ()\r\n",
        "  echec[x][y] = True\r\n",
        "  return (x, y)\r\n",
        "\r\n",
        "import doctest\r\n",
        "doctest.run_docstring_examples(cavalier, globals())"
      ],
      "execution_count": null,
      "outputs": []
    },
    {
      "cell_type": "markdown",
      "metadata": {
        "id": "i8ZGIK9axKNN"
      },
      "source": [
        "### Solution"
      ]
    },
    {
      "cell_type": "code",
      "metadata": {
        "id": "36tNidThxL4U"
      },
      "source": [
        "TAILLE = 8\r\n",
        "\r\n",
        "def cavalier(trajet):\r\n",
        "  '''\r\n",
        "  >>> cavalier('x4')\r\n",
        "  False\r\n",
        "  >>> cavalier('a9')\r\n",
        "  False\r\n",
        "  >>> cavalier('d4')\r\n",
        "  True\r\n",
        "  >>> cavalier('d4 d5')\r\n",
        "  False\r\n",
        "  >>> cavalier('d4 c6')\r\n",
        "  True\r\n",
        "  >>> cavalier('d4 c6 d4')\r\n",
        "  False\r\n",
        "  >>> cavalier('d4 c6 b4 d3 e5')\r\n",
        "  True\r\n",
        "  '''\r\n",
        "  echec = [([False] * TAILLE).copy() for i in range(TAILLE)]\r\n",
        "  cases = trajet.split(' ')\r\n",
        "  prec = ()\r\n",
        "  while cases:\r\n",
        "    x, y = coordonnees(cases.pop(0))\r\n",
        "    if not limite(x) or not limite(y) or echec[x][y] or prec and not atteint(x, y, prec):\r\n",
        "      return False\r\n",
        "    echec[x][y] = True\r\n",
        "    prec = (x, y)\r\n",
        "  return True\r\n",
        "\r\n",
        "def atteint(x, y, dest):\r\n",
        "  return abs((dest[0]-x)*(dest[1]-y))==2\r\n",
        "\r\n",
        "def limite(v):\r\n",
        "  return 0 <= v <TAILLE\r\n",
        "\r\n",
        "def coordonnees(pos):\r\n",
        "  return (ord(pos[0])-ord('a'), ord(pos[1])-ord('1'))\r\n",
        "\r\n",
        "import doctest\r\n",
        "doctest.run_docstring_examples(cavalier, globals())"
      ],
      "execution_count": null,
      "outputs": []
    },
    {
      "cell_type": "markdown",
      "metadata": {
        "id": "Z4DaiAa46w8L"
      },
      "source": [
        "# Intégrer l'existant : \"Live Organ Transplants\""
      ]
    },
    {
      "cell_type": "markdown",
      "metadata": {
        "id": "8BT-0TJeqiQX"
      },
      "source": [
        "## 1) Réparer la machine qui fait \"Bing\""
      ]
    },
    {
      "cell_type": "markdown",
      "metadata": {
        "id": "x6Kzs8xUxPT9"
      },
      "source": [
        "### Préambule"
      ]
    },
    {
      "cell_type": "code",
      "metadata": {
        "id": "hWEY5W4JxOYM"
      },
      "source": [
        "import IPython, math, random\r\n",
        "\r\n",
        "def tab(t):\r\n",
        "  return '['+','.join([str(v) for v in t])+']'\r\n",
        "\r\n",
        "def signal(n):\r\n",
        "  periode=2*math.pi/n\r\n",
        "  p=random.randrange(n)\r\n",
        "  a=random.randrange(10, 100)\r\n",
        "  return [round(math.cos(periode*(p+i))*a,2) for i in range(n)]\r\n",
        "\r\n",
        "def go_bing(initialiser):\r\n",
        "  n=random.randrange(3, 7)\r\n",
        "  signal1=signal(n)\r\n",
        "  signal2=signal(n)\r\n",
        "  ratio, phase = initialiser(signal1, signal2)\r\n",
        "  s='let s1='+tab(signal1)+',s2='+tab(signal2)+',ra='+str(ratio)+',p='+str(phase)+',n='+str(len(signal1))\r\n",
        "  display(IPython.display.HTML('''\r\n",
        "  <div style='padding:60px 57px 0;background-image:url(https://syllab.com/exo/2021/01/machine.jpg);width:315px;height:420px'>\r\n",
        "  <div id=bg style='background-position-y:-35px;width:320px;border-radius:5px'>\r\n",
        "  <div id=ms style='background-image:url(https://syllab.com/exo/2021/01/bing.png);width:320px;height:250px'></div>\r\n",
        "  </div></div><script>\r\n",
        "  var g=id=>document.getElementById(id),m=g('ms'),b=g('bg'),c=1,x=-340,\r\n",
        "      s=new Audio('https://syllab.com/exo/2021/01/bing.mp3'), \r\n",
        "      u=()=>window.requestAnimationFrame(a), _=()=>{'''+s+'''\r\n",
        "          for(let i=0;i<n;i++) c&=(s1[i]*ra-s2[(i+p)%n])<.05?1:0;\r\n",
        "          b.style.backgroundImage='url(https://syllab.com/exo/2021/01/bing-bg'+c+'.png)' \r\n",
        "      }, a=()=>{ m.style.backgroundPositionX=x+'px'; \r\n",
        "          x+=3; if(x>0) x=-340; else if(x==-256&&c) s.play(); u() }\r\n",
        "  _(); u(); \r\n",
        "  </script>\r\n",
        "  '''))"
      ],
      "execution_count": null,
      "outputs": []
    },
    {
      "cell_type": "markdown",
      "metadata": {
        "id": "i5A-3je4xRcM"
      },
      "source": [
        "### Défi"
      ]
    },
    {
      "cell_type": "code",
      "metadata": {
        "id": "LH80Yi1SxUKk"
      },
      "source": [
        "def initialiser(signal1, signal2):\r\n",
        "  '''\r\n",
        "  >>> initialiser([17.0, -8.5, -8.5], [-28.5, -28.5, 57.0])\r\n",
        "  (3.3529411764705883, 2)\r\n",
        "  >>> initialiser([10.82, 35.0, 10.82, -28.32, -28.32], [23.79, 77.0, 23.79, -62.29, -62.29])\r\n",
        "  (2.2, 0)\r\n",
        "  >>> initialiser([17.5, 35.0, 17.5, -17.5, -35.0, -17.5], [49.5, -49.5, -99.0, -49.5, 49.5, 99.0])\r\n",
        "  (2.8285714285714287, 4)\r\n",
        "  >>> initialiser([47.0, -47.0, -94.0, -47.0, 47.0, 94.0], [39.0, 19.5, -19.5, -39.0, -19.5, 19.5])\r\n",
        "  (0.4148936170212766, 1)\r\n",
        "  '''\r\n",
        "  return (0, 0)\r\n",
        "\r\n",
        "import doctest\r\n",
        "doctest.run_docstring_examples(initialiser, globals())\r\n",
        "\r\n",
        "go_bing(initialiser)"
      ],
      "execution_count": null,
      "outputs": []
    },
    {
      "cell_type": "markdown",
      "metadata": {
        "id": "Fk7yIT1PxUiE"
      },
      "source": [
        "### Solution"
      ]
    },
    {
      "cell_type": "code",
      "metadata": {
        "id": "7GjaEDsdxWA0"
      },
      "source": [
        "def initialiser(signal1, signal2):\r\n",
        "  '''\r\n",
        "  >>> initialiser([17.0, -8.5, -8.5], [-28.5, -28.5, 57.0])\r\n",
        "  (3.3529411764705883, 2)\r\n",
        "  >>> initialiser([10.82, 35.0, 10.82, -28.32, -28.32], [23.79, 77.0, 23.79, -62.29, -62.29])\r\n",
        "  (2.2, 0)\r\n",
        "  >>> initialiser([17.5, 35.0, 17.5, -17.5, -35.0, -17.5], [49.5, -49.5, -99.0, -49.5, 49.5, 99.0])\r\n",
        "  (2.8285714285714287, 4)\r\n",
        "  >>> initialiser([47.0, -47.0, -94.0, -47.0, 47.0, 94.0], [39.0, 19.5, -19.5, -39.0, -19.5, 19.5])\r\n",
        "  (0.4148936170212766, 1)\r\n",
        "  '''\r\n",
        "  imax1 = imax2 = 0\r\n",
        "  n = len(signal1)\r\n",
        "  for i in range(1, n):\r\n",
        "    if signal1[i]>signal1[imax1]:\r\n",
        "      imax1 = i\r\n",
        "    if signal2[i]>signal2[imax2]:\r\n",
        "      imax2 = i\r\n",
        "  phase = (imax2 if imax2>=imax1 else imax2+n) - imax1\r\n",
        "  return (signal2[imax2]/signal1[imax1], phase)\r\n",
        "\r\n",
        "import doctest\r\n",
        "doctest.run_docstring_examples(initialiser, globals())\r\n",
        "\r\n",
        "go_bing(initialiser)"
      ],
      "execution_count": null,
      "outputs": []
    },
    {
      "cell_type": "markdown",
      "metadata": {
        "id": "NajPU3UNqjyn"
      },
      "source": [
        "## 2) Soigner ses arguments"
      ]
    },
    {
      "cell_type": "markdown",
      "metadata": {
        "id": "C_A9NUajxbw3"
      },
      "source": [
        "### Défi"
      ]
    },
    {
      "cell_type": "code",
      "metadata": {
        "id": "EJzMISVXLCrX",
        "colab": {
          "base_uri": "https://localhost:8080/"
        },
        "outputId": "e3936f0b-737a-490d-a7e2-bebdf5a5e972"
      },
      "source": [
        "ref = { \r\n",
        "  \"a\": [ \"autorite\"    , 0, \"Les experts sont unanimes.\", \"Il y a des voix dissonantes.\" ],\r\n",
        "  \"b\": [ \"bonnefoi\"    , 0, \"Nous avons toujours été guidés par le désir de bien faire.\", \"L'enfer est pavé de bonnes intentions.\" ],\r\n",
        "  \"c\": [ \"comparaison\" , 2, \"Si c'est valable pour {0}, rien n'empêche de le considérer pour {1}.\", \"Comparaison n'est pas raison ! On ne peut assimiler {0} et {1}.\" ],\r\n",
        "  \"d\": [ \"definition\"  , 2, \"{0} c'est d'abord {1}.\", \"{0} c'est bien autre chose.\" ],\r\n",
        "  \"e\": [ \"extreme\"     , 1, \"Et pourquoi pas {0}, tant que vous y êtes !.\", \"Inutile d'exagérer !.\" ],\r\n",
        "  \"f\": [ \"afortiori\"   , 2, \"Si c'est valable pour {0} ça l'est à plus forte raison aussi pour {1}.\", \"Oui, mais il y a des solutions plus adaptées.\" ],\r\n",
        "  \"g\": [ \"gaspi\"       , 1, \"Ça fera économiser beaucoup de {0}.\", \"Il y a d'autres moyens d'en économiser.\" ],\r\n",
        "  \"h\": [ \"adhominem\"   , 2, \"Vous prônez {0} mais ça ne vous empêche pas de {1}.\", \"Il y a des choses qui ont plus d'impact sur {0}.\" ],\r\n",
        "  \"i\": [ \"incompatible\", 1, \"On ne peut comprendre que si l'on est {0}.\", \"Cela peut aussi faire perdre son objectivité.\" ],\r\n",
        "  \"j\": [ \"justice\"     , 0, \"On ne peut faire aucune exception.\", \"Il le faut, les conditions de départ sont différentes.\" ],\r\n",
        "  \"l\": [ \"alternative\" , 2, \"Il faut choisir : soit {0}, soit {1}.\", \"Le monde n'est pas tout blanc ou tout noir, une troisième piste est envisageable.\" ],\r\n",
        "  \"m\": [ \"forcemajeur\" , 0, \"Il n'y a aucune autre méthode éprouvée.\", \"Tout n'a pas encore été essayé.\" ],\r\n",
        "  \"n\": [ \"narration\"   , 1, \"Vous connaissez {0}, vous vous rappelez comment ça se termine.\", \"Ici, c'est la vraie vie, pas une fiction.\" ], \r\n",
        "  \"o\": [ \"opportunité\" , 0, \"C'est vraiment le bon moment, toutes les conditions sont réunies.\", \"Il ne faut pas confondre vitesse et précipitation.\" ],\r\n",
        "  \"p\": [ \"adpersonam\"  , 0, \"Vous êtes mal placé pour dire ça.\", \"Au contraire, je suis plus que légitime.\" ],\r\n",
        "  \"q\": [ \"quantité\"    , 0, \"C'est ce que demande la majorité.\", \"On est toujours minoritaire quand on ouvre la voie.\" ],\r\n",
        "  \"r\": [ \"reciprocité\" , 2, \"On ne peut {0} d'un côté sans {1} de l'autre.\", \"On peut tout à fait, il y bien d'autres effets bénéfiques.\" ], \r\n",
        "  \"s\": [ \"sacrifice\"   , 0, \"Ça a demander un effort considérable.\", \"Ne fallait-il pas vérifier avant si le jeu en valait vraiment la chandelle.\" ]\r\n",
        "}\r\n",
        "# prog --adhominem \"l'économie d'énergie/rouler en 4x4\" -ic \"sur le terrain\" \"les smartphones/les ordinateurs\"\r\n",
        "argv = [\r\n",
        "    \"--adhominem\", \"l'économie d'énergie/rouler en 4x4\",\r\n",
        "    \"-ic\", \"sur le terrain\", \"les smartphones/les ordinateurs\"\r\n",
        "]\r\n",
        "\r\n",
        "# Affichage attendu :\r\n",
        "# Vous prônez l'économie d'énergie mais ça ne vous empêche pas de rouler en 4x4.\r\n",
        "# Il y a des choses qui ont plus d'impact sur l'économie d'énergie.\r\n",
        "\r\n",
        "# On ne peut comprendre que si l'on est sur le terrain.\r\n",
        "# Cela peut aussi faire perdre son objectivité.\r\n",
        "\r\n",
        "# Si c'est valable pour les smartphones, rien n'empêche de le considérer pour les ordinateurs.\r\n",
        "# Comparaison n'est pas raison ! On ne peut assimiler les smartphones et les ordinateurs.\r\n",
        "\r\n",
        "def usage():\r\n",
        "  print(\"Usage: prog -x [arguments]\")\r\n",
        "  for cmd, infos in ref.items():\r\n",
        "    texte = str(infos[1]) + \" argument(s)\" if infos[1]>0 else \"aucun argument\"\r\n",
        "    print(\"-\" + cmd + \", --\" + infos[0] + \": \" + texte )\r\n",
        "\r\n",
        "usage()"
      ],
      "execution_count": null,
      "outputs": [
        {
          "output_type": "stream",
          "text": [
            "Usage: prog -x [arguments]\n",
            "-a, --autorite: aucun argument\n",
            "-b, --bonnefoi: aucun argument\n",
            "-c, --comparaison: 2 argument(s)\n",
            "-d, --definition: 2 argument(s)\n",
            "-e, --extreme: 1 argument(s)\n",
            "-f, --afortiori: 2 argument(s)\n",
            "-g, --gaspi: 1 argument(s)\n",
            "-h, --adhominem: 2 argument(s)\n",
            "-i, --incompatible: 1 argument(s)\n",
            "-j, --justice: aucun argument\n",
            "-l, --alternative: 2 argument(s)\n",
            "-m, --forcemajeur: aucun argument\n",
            "-n, --narration: 1 argument(s)\n",
            "-o, --opportunité: aucun argument\n",
            "-p, --adpersonam: aucun argument\n",
            "-q, --quantité: aucun argument\n",
            "-r, --reciprocité: 2 argument(s)\n",
            "-s, --sacrifice: aucun argument\n"
          ],
          "name": "stdout"
        }
      ]
    },
    {
      "cell_type": "markdown",
      "metadata": {
        "id": "2J_kXTipxZtl"
      },
      "source": [
        "### Solution"
      ]
    },
    {
      "cell_type": "code",
      "metadata": {
        "id": "x86ei90KPMq3",
        "colab": {
          "base_uri": "https://localhost:8080/"
        },
        "outputId": "ed9ea9b7-9df4-4af8-d11a-76bc8f774da3"
      },
      "source": [
        "cmds = []\r\n",
        "errs = []\r\n",
        "\r\n",
        "def traiter(cmd, params):\r\n",
        "  if len(params) == ref[cmd][1]:\r\n",
        "    for i in range(2, 4):\r\n",
        "      print(ref[cmd][i].format(*params))\r\n",
        "    print()\r\n",
        "  else:\r\n",
        "    errs.append(\r\n",
        "      \"L'argument de \" + cmd + \" doit être composé de \" \r\n",
        "      + ref[cmd][1] + \" partie(s) séparée(s) par des '/'.\"\r\n",
        "    )\r\n",
        "\r\n",
        "def interpreter(cmd):\r\n",
        "  if cmd not in ref:\r\n",
        "    errs.append(\"Commande '\" + cmd + \"' inconnue.\")  \r\n",
        "  elif ref[cmd][1]==0:\r\n",
        "    traiter(cmd, [])\r\n",
        "  else:\r\n",
        "    cmds.append(cmd)  \r\n",
        "\r\n",
        "def retrouver(complet):\r\n",
        "  for cmd, infos in ref.items():\r\n",
        "    if infos[0]==complet:\r\n",
        "      interpreter(cmd)\r\n",
        "      return\r\n",
        "  errs.append(\"Commande '\" + complet + \"' inconnue.\")\r\n",
        "\r\n",
        "for arg in argv:\r\n",
        "  if arg[0]=='-':\r\n",
        "    if arg[1]=='-':\r\n",
        "      retrouver(arg[2:])\r\n",
        "    else:\r\n",
        "      for cmd in arg[1:]:\r\n",
        "        interpreter(cmd)\r\n",
        "  elif cmds:\r\n",
        "    traiter(cmds.pop(0), arg.split('/'))\r\n",
        "  else:\r\n",
        "    errs.append(\"Format de commande incorrect.\")\r\n",
        "\r\n",
        "if cmds:\r\n",
        "  errs.append(\"Arguments manquants pour la/les commande(s) : \"+', '.join(cmds)+\".\")\r\n",
        "if errs:\r\n",
        "  for e in errs:\r\n",
        "    print(e)\r\n",
        "  usage()"
      ],
      "execution_count": null,
      "outputs": [
        {
          "output_type": "stream",
          "text": [
            "Vous prônez l'économie d'énergie mais ça ne vous empêche pas de rouler en 4x4.\n",
            "Il y a des choses qui ont plus d'impact sur l'économie d'énergie.\n",
            "\n",
            "On ne peut comprendre que si l'on est sur le terrain.\n",
            "Cela peut aussi faire perdre son objectivité.\n",
            "\n",
            "Si c'est valable pour les smartphones, rien n'empêche de le considérer pour les ordinateurs.\n",
            "Comparaison n'est pas raison ! On ne peut assimiler les smartphones et les ordinateurs.\n",
            "\n"
          ],
          "name": "stdout"
        }
      ]
    },
    {
      "cell_type": "markdown",
      "metadata": {
        "id": "MLND-5kFqqjI"
      },
      "source": [
        "## 3) Cerner la souris et son problème"
      ]
    },
    {
      "cell_type": "markdown",
      "metadata": {
        "id": "7jNtAmH-7BTn"
      },
      "source": [
        "### Préambule"
      ]
    },
    {
      "cell_type": "code",
      "metadata": {
        "id": "2sW8n9rShNwK"
      },
      "source": [
        "htmljs = '''\r\n",
        "<p><h2 id='pb-souris-cellule'>'--'</h2><button onclick='zchg(-.1)'>-</button><button onclick='zchg(.1)'>+</button></p>\r\n",
        "<div id='pb-souris' style='width:500px; height:200px; overflow:scroll; padding:0; margin:0'>\r\n",
        "  <img src='https://syllab.com/exo/2021/01/grille.png'>\r\n",
        "</div>\r\n",
        "<script>\r\n",
        "  var img = document.querySelector('#pb-souris>img');\r\n",
        "  var div = document.getElementById('pb-souris');\r\n",
        "  var span = document.getElementById('pb-souris-cellule');\r\n",
        "  var z = 1.0, w=854;\r\n",
        "  var zchg = delta => img.width=Math.round(w*(z+=delta)); \r\n",
        "  img.onclick = async e => {\r\n",
        "    let res = await google.colab.kernel.invokeFunction(\r\n",
        "      'python.clic', \r\n",
        "      [ e.layerX, e.layerY, -div.scrollLeft, -div.scrollTop, z], {}\r\n",
        "    );\r\n",
        "    span.innerHTML=res.data['text/plain'];\r\n",
        "  }\r\n",
        "</script>\r\n",
        "'''"
      ],
      "execution_count": null,
      "outputs": []
    },
    {
      "cell_type": "markdown",
      "metadata": {
        "id": "FAYymrVZxh70"
      },
      "source": [
        "### Défi"
      ]
    },
    {
      "cell_type": "code",
      "metadata": {
        "id": "Yyj2ad3dqqKD"
      },
      "source": [
        "import IPython\r\n",
        "import sys, math\r\n",
        "from google.colab import output\r\n",
        "\r\n",
        "LARGEUR = 854\r\n",
        "HAUTEUR = 352\r\n",
        "COLONNES = 26\r\n",
        "LIGNES = 14\r\n",
        "\r\n",
        "def clic(x, y, x0, y0, zoom):\r\n",
        "  X = math.floor(x*COLONNES/LARGEUR)\r\n",
        "  Y = math.floor(y*LIGNES/HAUTEUR)+1\r\n",
        "  return chr(ord('A') + X) + str(Y)\r\n",
        "\r\n",
        "output.register_callback('python.clic', clic)\r\n",
        "display(IPython.display.HTML(htmljs))"
      ],
      "execution_count": null,
      "outputs": []
    },
    {
      "cell_type": "markdown",
      "metadata": {
        "id": "UqIfv2O968Yj"
      },
      "source": [
        "### Solution"
      ]
    },
    {
      "cell_type": "code",
      "metadata": {
        "colab": {
          "base_uri": "https://localhost:8080/",
          "height": 290
        },
        "id": "LTUELcKe7VLN",
        "outputId": "0508a775-5b72-4e5d-c2b2-b096b0cf6bdb"
      },
      "source": [
        "import IPython\r\n",
        "import sys, math\r\n",
        "from google.colab import output\r\n",
        "\r\n",
        "def clic(x, y, x0, y0, zoom):\r\n",
        "  X = math.floor((x-x0)*COLONNES/(LARGEUR*zoom))\r\n",
        "  Y = math.floor((y-y0)*LIGNES  /(HAUTEUR*zoom))+1\r\n",
        "  return chr(ord('A') + X) + str(Y)\r\n",
        "\r\n",
        "output.register_callback('python.clic', clic)\r\n",
        "display(IPython.display.HTML(htmljs))"
      ],
      "execution_count": null,
      "outputs": [
        {
          "output_type": "display_data",
          "data": {
            "text/html": [
              "\n",
              "<p><h2 id='pb-souris-cellule'>'--'</h2><button onclick='zchg(-.1)'>-</button><button onclick='zchg(.1)'>+</button></p>\n",
              "<div id='pb-souris' style='width:500px; height:200px; overflow:scroll; padding:0; margin:0'>\n",
              "  <img src='https://syllab.com/exo/2021/01/grille.png'>\n",
              "</div>\n",
              "<script>\n",
              "  var img = document.querySelector('#pb-souris>img');\n",
              "  var div = document.getElementById('pb-souris');\n",
              "  var span = document.getElementById('pb-souris-cellule');\n",
              "  var z = 1.0, w=854;\n",
              "  var zchg = delta => img.width=Math.round(w*(z+=delta)); \n",
              "  img.onclick = async e => {\n",
              "    let res = await google.colab.kernel.invokeFunction(\n",
              "      'python.clic', \n",
              "      [ e.layerX, e.layerY, -div.scrollLeft, -div.scrollTop, z], {}\n",
              "    );\n",
              "    span.innerHTML=res.data['text/plain'];\n",
              "  }\n",
              "</script>\n"
            ],
            "text/plain": [
              "<IPython.core.display.HTML object>"
            ]
          },
          "metadata": {
            "tags": []
          }
        }
      ]
    },
    {
      "cell_type": "markdown",
      "metadata": {
        "id": "ZXpDQr_g7JT7"
      },
      "source": [
        "# Éprouver votre endurance : \"The Autumn Years\""
      ]
    },
    {
      "cell_type": "markdown",
      "metadata": {
        "id": "VKJUGrd3BGv_"
      },
      "source": [
        "## 1) Dépouiller les votes"
      ]
    },
    {
      "cell_type": "markdown",
      "metadata": {
        "id": "8-zJFN0PxnKs"
      },
      "source": [
        "### Défi"
      ]
    },
    {
      "cell_type": "code",
      "metadata": {
        "colab": {
          "base_uri": "https://localhost:8080/"
        },
        "id": "zNZyK4OsxpEN",
        "outputId": "dbddf858-60e4-405a-ff0c-205fc55ff583"
      },
      "source": [
        "def tri_votes(votes):\r\n",
        "  '''\r\n",
        "  >>> tri_votes([])\r\n",
        "  []\r\n",
        "  >>> tri_votes([1, 0])\r\n",
        "  [0, 1]\r\n",
        "  >>> tri_votes([2, 1])\r\n",
        "  [1, 2]\r\n",
        "  >>> tri_votes([0, 0, 0])\r\n",
        "  [0, 0, 0]\r\n",
        "  >>> tri_votes([1, 1, 1])\r\n",
        "  [1, 1, 1]\r\n",
        "  >>> tri_votes([2, 2, 2])\r\n",
        "  [2, 2, 2]\r\n",
        "  >>> tri_votes([1, 1, 0])\r\n",
        "  [0, 1, 1]\r\n",
        "  >>> tri_votes([2, 1, 0, 1, 0, 1, 2, 0, 1, 1, 0, 2, 2, 1, 0, 1, 1, 0])\r\n",
        "  [0, 0, 0, 0, 0, 0, 1, 1, 1, 1, 1, 1, 1, 1, 2, 2, 2, 2]\r\n",
        "  '''  \r\n",
        "  return votes\r\n",
        "\r\n",
        "import doctest\r\n",
        "doctest.run_docstring_examples(tri_votes, globals())"
      ],
      "execution_count": null,
      "outputs": [
        {
          "output_type": "stream",
          "text": [
            "**********************************************************************\n",
            "File \"__main__\", line 5, in NoName\n",
            "Failed example:\n",
            "    tri_votes([1, 0])\n",
            "Expected:\n",
            "    [0, 1]\n",
            "Got:\n",
            "    [1, 0]\n",
            "**********************************************************************\n",
            "File \"__main__\", line 7, in NoName\n",
            "Failed example:\n",
            "    tri_votes([2, 1])\n",
            "Expected:\n",
            "    [1, 2]\n",
            "Got:\n",
            "    [2, 1]\n",
            "**********************************************************************\n",
            "File \"__main__\", line 15, in NoName\n",
            "Failed example:\n",
            "    tri_votes([1, 1, 0])\n",
            "Expected:\n",
            "    [0, 1, 1]\n",
            "Got:\n",
            "    [1, 1, 0]\n",
            "**********************************************************************\n",
            "File \"__main__\", line 17, in NoName\n",
            "Failed example:\n",
            "    tri_votes([2, 1, 0, 1, 0, 1, 2, 0, 1, 1, 0, 2, 2, 1, 0, 1, 1, 0])\n",
            "Expected:\n",
            "    [0, 0, 0, 0, 0, 0, 1, 1, 1, 1, 1, 1, 1, 1, 2, 2, 2, 2]\n",
            "Got:\n",
            "    [2, 1, 0, 1, 0, 1, 2, 0, 1, 1, 0, 2, 2, 1, 0, 1, 1, 0]\n"
          ],
          "name": "stdout"
        }
      ]
    },
    {
      "cell_type": "markdown",
      "metadata": {
        "id": "cVC2xc_LxpTk"
      },
      "source": [
        "### Solution"
      ]
    },
    {
      "cell_type": "code",
      "metadata": {
        "id": "ODxzHvvtxrCM"
      },
      "source": [
        "def reordonner(t, indices, val, inc):\r\n",
        "  if t[indices[1]] != val:\r\n",
        "    return False\r\n",
        "  tmp = t[indices[val]];\r\n",
        "  t[indices[val]] = t[indices[1]]\r\n",
        "  t[indices[1]] = tmp\r\n",
        "  indices[val] += inc\r\n",
        "  return True\r\n",
        "\r\n",
        "def tri_votes(votes):\r\n",
        "  '''\r\n",
        "  >>> tri_votes([])\r\n",
        "  []\r\n",
        "  >>> tri_votes([1, 0])\r\n",
        "  [0, 1]\r\n",
        "  >>> tri_votes([2, 1])\r\n",
        "  [1, 2]\r\n",
        "  >>> tri_votes([0, 0, 0])\r\n",
        "  [0, 0, 0]\r\n",
        "  >>> tri_votes([1, 1, 1])\r\n",
        "  [1, 1, 1]\r\n",
        "  >>> tri_votes([2, 2, 2])\r\n",
        "  [2, 2, 2]\r\n",
        "  >>> tri_votes([1, 1, 0])\r\n",
        "  [0, 1, 1]\r\n",
        "  >>> tri_votes([2, 1, 0, 1, 0, 1, 2, 0, 1, 1, 0, 2, 2, 1, 0, 1, 1, 0])\r\n",
        "  [0, 0, 0, 0, 0, 0, 1, 1, 1, 1, 1, 1, 1, 1, 2, 2, 2, 2]\r\n",
        "  '''  \r\n",
        "  indices=[0, 0, len(votes)-1]\r\n",
        "  while indices[1] <= indices[2]:\r\n",
        "    if not reordonner(votes, indices, 2, -1):\r\n",
        "      reordonner(votes, indices, 0, +1)\r\n",
        "      indices[1]+=1\r\n",
        "  return votes\r\n",
        "\r\n",
        "import doctest\r\n",
        "doctest.run_docstring_examples(tri_votes, globals())"
      ],
      "execution_count": null,
      "outputs": []
    },
    {
      "cell_type": "markdown",
      "metadata": {
        "id": "SA0rIZ70Hvoe"
      },
      "source": [
        "## 2) Prendre le dessus"
      ]
    },
    {
      "cell_type": "markdown",
      "metadata": {
        "id": "WOOHpLt9y9Zd"
      },
      "source": [
        "### Préambule"
      ]
    },
    {
      "cell_type": "code",
      "metadata": {
        "id": "xfYIt-vgy-AN"
      },
      "source": [
        "import IPython\r\n",
        "from google.colab import output\r\n",
        "\r\n",
        "def animer_tour(init, deplacements):\r\n",
        "  display(IPython.display.HTML('''\r\n",
        "  <style>\r\n",
        "    #h { border-collapse:collapse; border-spacing:0; }\r\n",
        "    #h td { vertical-align:bottom; padding:0; border:none; }\r\n",
        "    #h .s { border:0; width:370px; height:10px; background:#111; }\r\n",
        "    #h .e { margin:0 auto; border:1px solid #333; border-radius:10px; height:20px; background:#8cc; }\r\n",
        "    #h .v { height:'''+str((len(init)+1)*20)+'''px;}\r\n",
        "  </style><table id='h'>\r\n",
        "    <tr><td><div class='v'></div></td><td id='c0'></td>\r\n",
        "    <td id='c1'></td><td id='c2'></td></tr>\r\n",
        "    <tr><th></th><th>1</th><th>2</th><th>3</th></tr>\r\n",
        "  </table>'''))\r\n",
        "  t=[[], [], []]\r\n",
        "  for i in range(len(init), 0, -1):\r\n",
        "    t[init[i-1]].append(i)\r\n",
        "  dessiner(t, 0)\r\n",
        "  for de,a in deplacements:\r\n",
        "    t[a].append(t[de].pop())\r\n",
        "    dessiner(t, de)\r\n",
        "\r\n",
        "def dessiner(tour, premier):\r\n",
        "  for i in range(premier, premier+3):\r\n",
        "    col=i%3\r\n",
        "    s=''\r\n",
        "    for p in reversed(tour[col]):\r\n",
        "      s+=\"<div class=e style='width:\"+str(p*25)+\"px'></div>\"\r\n",
        "    s+='<div class=s></div>'\r\n",
        "    output.eval_js('document.getElementById(\"c'+str(col)+'\").innerHTML=\"'+s+'\"')"
      ],
      "execution_count": null,
      "outputs": []
    },
    {
      "cell_type": "markdown",
      "metadata": {
        "id": "7DHtfapKxr20"
      },
      "source": [
        "### Défi"
      ]
    },
    {
      "cell_type": "code",
      "metadata": {
        "colab": {
          "base_uri": "https://localhost:8080/",
          "height": 758
        },
        "id": "JxG12C_LxtJE",
        "outputId": "0e0e590b-5187-4b83-c689-b50073392e7e"
      },
      "source": [
        "import random\r\n",
        "\r\n",
        "etages = [random.randrange(3) for i in range(5)]\r\n",
        "\r\n",
        "def rassembler(etages):\r\n",
        "  '''\r\n",
        "  >>> rassembler([0, 0, 0])\r\n",
        "  []\r\n",
        "  >>> rassembler([0, 1, 1])\r\n",
        "  [(0, 1)]\r\n",
        "  >>> rassembler([1, 0, 2])\r\n",
        "  [(0, 2), (1, 2)]\r\n",
        "  >>> rassembler([1, 0, 1, 2])\r\n",
        "  [(1, 0), (1, 2), (0, 1), (0, 2), (1, 2)]\r\n",
        "  >>> rassembler([0, 0, 2, 1, 2, 0])\r\n",
        "  [(2, 1), (0, 2), (0, 1), (2, 1), (2, 0), (1, 2), (1, 0), (2, 0), (1, 2), (0, 1), (0, 2), (1, 2), (1, 0), (2, 0), (2, 1), (0, 1), (2, 0), (1, 2), (1, 0), (2, 0)]\r\n",
        "  '''\r\n",
        "  return []\r\n",
        "\r\n",
        "import doctest\r\n",
        "doctest.run_docstring_examples(rassembler, globals())\r\n",
        "\r\n",
        "animer_tour(etages, rassembler(etages.copy()))"
      ],
      "execution_count": null,
      "outputs": [
        {
          "output_type": "stream",
          "text": [
            "**********************************************************************\n",
            "File \"__main__\", line 9, in NoName\n",
            "Failed example:\n",
            "    rassembler([0, 1, 1])\n",
            "Expected:\n",
            "    [(0, 1)]\n",
            "Got:\n",
            "    []\n",
            "**********************************************************************\n",
            "File \"__main__\", line 11, in NoName\n",
            "Failed example:\n",
            "    rassembler([1, 0, 2])\n",
            "Expected:\n",
            "    [(0, 2), (1, 2)]\n",
            "Got:\n",
            "    []\n",
            "**********************************************************************\n",
            "File \"__main__\", line 13, in NoName\n",
            "Failed example:\n",
            "    rassembler([1, 0, 1, 2])\n",
            "Expected:\n",
            "    [(1, 0), (1, 2), (0, 1), (0, 2), (1, 2)]\n",
            "Got:\n",
            "    []\n",
            "**********************************************************************\n",
            "File \"__main__\", line 15, in NoName\n",
            "Failed example:\n",
            "    rassembler([0, 0, 2, 1, 2, 0])\n",
            "Expected:\n",
            "    [(2, 1), (0, 2), (0, 1), (2, 1), (2, 0), (1, 2), (1, 0), (2, 0), (1, 2), (0, 1), (0, 2), (1, 2), (1, 0), (2, 0), (2, 1), (0, 1), (2, 0), (1, 2), (1, 0), (2, 0)]\n",
            "Got:\n",
            "    []\n"
          ],
          "name": "stdout"
        },
        {
          "output_type": "display_data",
          "data": {
            "text/html": [
              "\n",
              "  <style>\n",
              "    #h { border-collapse:collapse; border-spacing:0; }\n",
              "    #h td { vertical-align:bottom; padding:0; border:none; }\n",
              "    #h .s { border:0; width:370px; height:10px; background:#111; }\n",
              "    #h .e { margin:0 auto; border:1px solid #333; border-radius:10px; height:20px; background:#8cc; }\n",
              "    #h .v { height:120px;}\n",
              "  </style><table id='h'>\n",
              "    <tr><td><div class='v'></div></td><td id='c0'></td>\n",
              "    <td id='c1'></td><td id='c2'></td></tr>\n",
              "    <tr><th></th><th>1</th><th>2</th><th>3</th></tr>\n",
              "  </table>"
            ],
            "text/plain": [
              "<IPython.core.display.HTML object>"
            ]
          },
          "metadata": {
            "tags": []
          }
        }
      ]
    },
    {
      "cell_type": "markdown",
      "metadata": {
        "id": "NA4zIiUSxuhe"
      },
      "source": [
        "### Solution"
      ]
    },
    {
      "cell_type": "code",
      "metadata": {
        "id": "dw2e-bo_xzDO"
      },
      "source": [
        "def rassembler(etages):\r\n",
        "  '''\r\n",
        "  >>> rassembler([0, 0, 0])\r\n",
        "  []\r\n",
        "  >>> rassembler([0, 1, 1])\r\n",
        "  [(0, 1)]\r\n",
        "  >>> rassembler([1, 0, 2])\r\n",
        "  [(0, 2), (1, 2)]\r\n",
        "  >>> rassembler([1, 0, 1, 2])\r\n",
        "  [(1, 0), (1, 2), (0, 1), (0, 2), (1, 2)]\r\n",
        "  >>> rassembler([0, 0, 2, 1, 2, 0])\r\n",
        "  [(2, 1), (0, 2), (0, 1), (2, 1), (2, 0), (1, 2), (1, 0), (2, 0), (1, 2), (0, 1), (0, 2), (1, 2), (1, 0), (2, 0), (2, 1), (0, 1), (2, 0), (1, 2), (1, 0), (2, 0)]\r\n",
        "  '''\r\n",
        "  deplacements = []\r\n",
        "  rassembler_rec(etages, len(etages), etages[-1], deplacements)\r\n",
        "  return deplacements\r\n",
        "\r\n",
        "def rassembler_rec(etages, taille, destination, deplacements):\r\n",
        "  if taille:    \r\n",
        "    indice_dernier = taille-1\r\n",
        "    source = etages[indice_dernier]\r\n",
        "    if source != destination:\r\n",
        "      autre = 3-source-destination\r\n",
        "      rassembler_rec(etages, indice_dernier, autre, deplacements)\r\n",
        "      deplacements.append((source, destination))\r\n",
        "      etages[indice_dernier] = destination\r\n",
        "    rassembler_rec(etages, indice_dernier, destination, deplacements)\r\n",
        "\r\n",
        "import doctest\r\n",
        "doctest.run_docstring_examples(rassembler, globals())\r\n",
        "\r\n",
        "animer_tour(etages, rassembler(etages.copy()))"
      ],
      "execution_count": null,
      "outputs": []
    }
  ]
}